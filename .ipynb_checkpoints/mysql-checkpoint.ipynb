{
 "cells": [
  {
   "cell_type": "code",
   "execution_count": 1,
   "metadata": {},
   "outputs": [],
   "source": [
    "import mysql.connector  \t\t#importing database\n",
    "database = mysql.connector.connect(\n",
    "    host=\"localhost\",\n",
    "    user=\"root\",\n",
    "    password=\"\",\n",
    "  database = \"class7pm\"\n",
    ")\n",
    "db = database.cursor()"
   ]
  },
  {
   "cell_type": "code",
   "execution_count": 3,
   "metadata": {},
   "outputs": [
    {
     "name": "stdout",
     "output_type": "stream",
     "text": [
      "(1, 'Ram', 78, 89, 78, 67, 72, 412, 412, 70.5, 'B')\n",
      "(2, 'Rama', 77, 39, 68, 67, 72, 362, 364, 70.5, 'B')\n"
     ]
    }
   ],
   "source": [
    "# Selecting data from database\n",
    "db.execute(\"SELECT * FROM profile\")\n",
    "result =db.fetchall()\n",
    "for x in result:\n",
    "    print(x)\n"
   ]
  },
  {
   "cell_type": "code",
   "execution_count": 5,
   "metadata": {},
   "outputs": [
    {
     "name": "stdout",
     "output_type": "stream",
     "text": [
      "(1, 'Ram', 78, 89, 78, 67, 72)\n",
      "(2, 'Rama', 77, 39, 68, 67, 72)\n"
     ]
    }
   ],
   "source": [
    "db.execute(\"SELECT `Sn`, `name`, `physics`, `chemistry`, `math`, `english`, `nepali`  FROM `profile` WHERE 1\")\n",
    "result =db.fetchall()\n",
    "for x in result:\n",
    "    print(x)"
   ]
  },
  {
   "cell_type": "code",
   "execution_count": 10,
   "metadata": {},
   "outputs": [
    {
     "name": "stdout",
     "output_type": "stream",
     "text": [
      "(2, 'Rama', 77, 39, 68, 67, 72, 'A')\n"
     ]
    }
   ],
   "source": [
    "db.execute(\"SELECT Sn, name, physics, chemistry, math, english, nepali,grade  FROM profile WHERE grade='A'\")\n",
    "result =db.fetchall()\n",
    "for x in result:\n",
    "    print(x)"
   ]
  },
  {
   "cell_type": "code",
   "execution_count": 11,
   "metadata": {},
   "outputs": [
    {
     "name": "stdout",
     "output_type": "stream",
     "text": [
      "(1, 'Ram', 78, 89, 78, 67, 72, 412, 412, 70.5, 'B')\n"
     ]
    }
   ],
   "source": [
    "db.execute(\"SELECT *  FROM profile WHERE total>400\")\n",
    "result =db.fetchall()\n",
    "for x in result:\n",
    "    print(x)"
   ]
  },
  {
   "cell_type": "code",
   "execution_count": 16,
   "metadata": {},
   "outputs": [
    {
     "name": "stdout",
     "output_type": "stream",
     "text": [
      "(1, 'Ram', 78, 89, 78, 67, 72, 412, 412, 70.5, 'B', 'He is very good boy')\n"
     ]
    }
   ],
   "source": [
    "# Search\n",
    "db.execute(\"SELECT *  FROM profile WHERE bio LIKE '%Good boy%' \")\n",
    "result =db.fetchall()\n",
    "for x in result:\n",
    "    print(x)"
   ]
  },
  {
   "cell_type": "code",
   "execution_count": null,
   "metadata": {},
   "outputs": [],
   "source": [
    "sql = INSERT INTO `profile`(`Sn`, `name`, `physics`, `chemistry`, `math`, `english`, `nepali`, `sum`, `total`, `per`, `grade`, `bio`) VALUES ([value-1],[value-2],[value-3],[value-4],[value-5],[value-6],[value-7],[value-8],[value-9],[value-10],[value-11],[value-12])\n",
    "mycursor.execute(sql)\n",
    "mydb.commit()\n",
    "print(mycursor.rowcount, \"record inserted.\")\n"
   ]
  }
 ],
 "metadata": {
  "kernelspec": {
   "display_name": "Python 3",
   "language": "python",
   "name": "python3"
  },
  "language_info": {
   "codemirror_mode": {
    "name": "ipython",
    "version": 3
   },
   "file_extension": ".py",
   "mimetype": "text/x-python",
   "name": "python",
   "nbconvert_exporter": "python",
   "pygments_lexer": "ipython3",
   "version": "3.7.1"
  }
 },
 "nbformat": 4,
 "nbformat_minor": 2
}
