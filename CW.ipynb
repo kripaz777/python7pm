{
 "cells": [
  {
   "cell_type": "code",
   "execution_count": 1,
   "metadata": {},
   "outputs": [],
   "source": [
    "# # WAP to create matrix\n",
    "# WAP for result management system\n"
   ]
  },
  {
   "cell_type": "code",
   "execution_count": 2,
   "metadata": {},
   "outputs": [
    {
     "name": "stdout",
     "output_type": "stream",
     "text": [
      "Enter r = 3\n",
      "Enter c = 3\n",
      "Enter x = 1\n",
      "Enter x = 2\n",
      "Enter x = 3\n",
      "Enter x = 4\n",
      "Enter x = 5\n",
      "Enter x = 6\n",
      "Enter x = 7\n",
      "Enter x = 8\n",
      "Enter x = 9\n"
     ]
    }
   ],
   "source": [
    "a = []\n",
    "r = int(input(\"Enter r = \"))\n",
    "c = int(input(\"Enter c = \"))\n",
    "for i in range(r):\n",
    "    b = []\n",
    "    for j in range(c):\n",
    "        x = int(input(\"Enter x = \"))\n",
    "        b.append(x)\n",
    "    a.append(b)"
   ]
  },
  {
   "cell_type": "code",
   "execution_count": 3,
   "metadata": {},
   "outputs": [
    {
     "name": "stdout",
     "output_type": "stream",
     "text": [
      "[[1, 2, 3], [4, 5, 6], [7, 8, 9]]\n"
     ]
    }
   ],
   "source": [
    "print(a)"
   ]
  },
  {
   "cell_type": "code",
   "execution_count": 4,
   "metadata": {},
   "outputs": [
    {
     "name": "stdout",
     "output_type": "stream",
     "text": [
      "Enter r = 3\n",
      "Enter c = 3\n",
      "Enter x = 1\n",
      "Enter x = 2\n",
      "Enter x = 3\n",
      "Enter x = 4\n",
      "Enter x = 5\n",
      "Enter x = 6\n",
      "Enter x = 7\n",
      "Enter x = 8\n",
      "Enter x = 9\n",
      "((1, 2, 3), (4, 5, 6), (7, 8, 9))\n"
     ]
    }
   ],
   "source": [
    "a = ()\n",
    "r = int(input(\"Enter r = \"))\n",
    "c = int(input(\"Enter c = \"))\n",
    "for i in range(r):\n",
    "    b = ()\n",
    "    for j in range(c):\n",
    "        x = int(input(\"Enter x = \"))\n",
    "        b = b+ (x,)\n",
    "    a = a+(b,)\n",
    "print(a)"
   ]
  },
  {
   "cell_type": "code",
   "execution_count": 6,
   "metadata": {},
   "outputs": [
    {
     "name": "stdout",
     "output_type": "stream",
     "text": [
      "Enter n = 2\n",
      "Enter name = Ram\n",
      "Enter physics marks = 78\n",
      "Enter chemistry marks = 90\n",
      "Enter math marks = 98\n",
      "Enter english marks = 89\n",
      "Enter nepali marks = 67\n",
      "Enter name = Shyam\n",
      "Enter physics marks = 78\n",
      "Enter chemistry marks = 90\n",
      "Enter math marks = 67\n",
      "Enter english marks = 78\n",
      "Enter nepali marks = 67\n"
     ]
    }
   ],
   "source": [
    "result = {}\n",
    "n = int(input(\"Enter n = \"))\n",
    "for i in range(n):\n",
    "    name = input(\"Enter name = \")\n",
    "    physics = int(input(\"Enter physics marks = \"))\n",
    "    chemistry = int(input(\"Enter chemistry marks = \"))\n",
    "    math = int(input(\"Enter math marks = \"))\n",
    "    english = int(input(\"Enter english marks = \"))\n",
    "    nepali = int(input(\"Enter nepali marks = \"))\n",
    "    s = sum([physics,chemistry,math,english,nepali])\n",
    "    per = s/5\n",
    "    if per >= 90:\n",
    "        g = 'A+'\n",
    "    elif per >= 80:\n",
    "        g = 'A'\n",
    "    elif per >=60:\n",
    "        g = 'B'\n",
    "    elif per >=45:\n",
    "        g = 'C'\n",
    "    elif per <45:\n",
    "        g = 'F'\n",
    "    result[name] = {'physics':physics,'chemistry':chemistry,\n",
    "                    'math':math,'english':english,'nepali':nepali,\n",
    "                   'Total':s,'Percentage':per,'Grade':g}\n",
    "    "
   ]
  },
  {
   "cell_type": "code",
   "execution_count": 10,
   "metadata": {},
   "outputs": [
    {
     "data": {
      "text/plain": [
       "{'Ram': {'physics': 78,\n",
       "  'chemistry': 90,\n",
       "  'math': 98,\n",
       "  'english': 89,\n",
       "  'nepali': 67,\n",
       "  'Total': 422,\n",
       "  'Percentage': 84.4,\n",
       "  'Grade': 'A'},\n",
       " 'Shyam': {'physics': 78,\n",
       "  'chemistry': 90,\n",
       "  'math': 67,\n",
       "  'english': 78,\n",
       "  'nepali': 67,\n",
       "  'Total': 380,\n",
       "  'Percentage': 76.0,\n",
       "  'Grade': 'B'}}"
      ]
     },
     "execution_count": 10,
     "metadata": {},
     "output_type": "execute_result"
    }
   ],
   "source": [
    "result"
   ]
  },
  {
   "cell_type": "code",
   "execution_count": 7,
   "metadata": {},
   "outputs": [
    {
     "name": "stdout",
     "output_type": "stream",
     "text": [
      "Enter physics marks = 100\n"
     ]
    }
   ],
   "source": [
    "physics = input(\"Enter physics marks = \")\n"
   ]
  },
  {
   "cell_type": "code",
   "execution_count": 9,
   "metadata": {},
   "outputs": [
    {
     "data": {
      "text/plain": [
       "100.0"
      ]
     },
     "execution_count": 9,
     "metadata": {},
     "output_type": "execute_result"
    }
   ],
   "source": [
    "int(physics)\n",
    "float(physics)"
   ]
  },
  {
   "cell_type": "code",
   "execution_count": null,
   "metadata": {},
   "outputs": [],
   "source": []
  }
 ],
 "metadata": {
  "kernelspec": {
   "display_name": "Python 3",
   "language": "python",
   "name": "python3"
  },
  "language_info": {
   "codemirror_mode": {
    "name": "ipython",
    "version": 3
   },
   "file_extension": ".py",
   "mimetype": "text/x-python",
   "name": "python",
   "nbconvert_exporter": "python",
   "pygments_lexer": "ipython3",
   "version": "3.7.1"
  }
 },
 "nbformat": 4,
 "nbformat_minor": 2
}
