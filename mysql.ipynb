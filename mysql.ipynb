{
 "cells": [
  {
   "cell_type": "code",
   "execution_count": 1,
   "metadata": {},
   "outputs": [],
   "source": [
    "import mysql.connector  \t\t#importing database\n",
    "database = mysql.connector.connect(\n",
    "    host=\"localhost\",\n",
    "    user=\"root\",\n",
    "    password=\"\",\n",
    "  database = \"class7pm\"\n",
    ")\n",
    "db = database.cursor()"
   ]
  },
  {
   "cell_type": "code",
   "execution_count": 3,
   "metadata": {},
   "outputs": [
    {
     "name": "stdout",
     "output_type": "stream",
     "text": [
      "(1, 'Ram', 78, 89, 78, 67, 72, 412, 412, 70.5, 'B')\n",
      "(2, 'Rama', 77, 39, 68, 67, 72, 362, 364, 70.5, 'B')\n"
     ]
    }
   ],
   "source": [
    "# Selecting data from database\n",
    "db.execute(\"SELECT * FROM profile\")\n",
    "result =db.fetchall()\n",
    "for x in result:\n",
    "    print(x)\n"
   ]
  },
  {
   "cell_type": "code",
   "execution_count": 5,
   "metadata": {},
   "outputs": [
    {
     "name": "stdout",
     "output_type": "stream",
     "text": [
      "(1, 'Ram', 78, 89, 78, 67, 72)\n",
      "(2, 'Rama', 77, 39, 68, 67, 72)\n"
     ]
    }
   ],
   "source": [
    "db.execute(\"SELECT `Sn`, `name`, `physics`, `chemistry`, `math`, `english`, `nepali`  FROM `profile` WHERE 1\")\n",
    "result =db.fetchall()\n",
    "for x in result:\n",
    "    print(x)"
   ]
  },
  {
   "cell_type": "code",
   "execution_count": 10,
   "metadata": {},
   "outputs": [
    {
     "name": "stdout",
     "output_type": "stream",
     "text": [
      "(2, 'Rama', 77, 39, 68, 67, 72, 'A')\n"
     ]
    }
   ],
   "source": [
    "db.execute(\"SELECT Sn, name, physics, chemistry, math, english, nepali,grade  FROM profile WHERE grade='A'\")\n",
    "result =db.fetchall()\n",
    "for x in result:\n",
    "    print(x)"
   ]
  },
  {
   "cell_type": "code",
   "execution_count": 11,
   "metadata": {},
   "outputs": [
    {
     "name": "stdout",
     "output_type": "stream",
     "text": [
      "(1, 'Ram', 78, 89, 78, 67, 72, 412, 412, 70.5, 'B')\n"
     ]
    }
   ],
   "source": [
    "db.execute(\"SELECT *  FROM profile WHERE total>400\")\n",
    "result =db.fetchall()\n",
    "for x in result:\n",
    "    print(x)"
   ]
  },
  {
   "cell_type": "code",
   "execution_count": 16,
   "metadata": {},
   "outputs": [
    {
     "name": "stdout",
     "output_type": "stream",
     "text": [
      "(1, 'Ram', 78, 89, 78, 67, 72, 412, 412, 70.5, 'B', 'He is very good boy')\n"
     ]
    }
   ],
   "source": [
    "# Search\n",
    "db.execute(\"SELECT *  FROM profile WHERE bio LIKE '%Good boy%' \")\n",
    "result =db.fetchall()\n",
    "for x in result:\n",
    "    print(x)"
   ]
  },
  {
   "cell_type": "code",
   "execution_count": 7,
   "metadata": {},
   "outputs": [
    {
     "name": "stdout",
     "output_type": "stream",
     "text": [
      "1 record inserted.\n"
     ]
    }
   ],
   "source": [
    "sql = \"INSERT INTO profile( name, physics, chemistry, math,english, nepali,sum, total, per, grade, bio) VALUES ('Hari',78,67,89,87,67,456,456,78.6,'B','He is very good student') \"\n",
    "db.execute(sql)\n",
    "database.commit()\n",
    "print(db.rowcount, \"record inserted.\")"
   ]
  },
  {
   "cell_type": "code",
   "execution_count": 10,
   "metadata": {},
   "outputs": [
    {
     "name": "stdout",
     "output_type": "stream",
     "text": [
      "Enter n = 2\n",
      "Enter name = Ram\n",
      "Enter physics marks = 89\n",
      "Enter che marks = 98\n",
      "Enter  math marks = 78\n",
      "Enter eng marks = 87\n",
      "Enter physics nep = 67\n",
      "Enter Bio = He is very good\n",
      "Enter name = nabin\n",
      "Enter physics marks = 56\n",
      "Enter che marks = 89\n",
      "Enter  math marks = 56\n",
      "Enter eng marks = 45\n",
      "Enter physics nep = 87\n",
      "Enter Bio = He is average\n",
      "1 record inserted.\n"
     ]
    }
   ],
   "source": [
    "n = int(input(\"Enter n = \"))\n",
    "for i in range(n):\n",
    "    name = input(\"Enter name = \")\n",
    "    physics = int(input(\"Enter physics marks = \"))\n",
    "    che = int(input(\"Enter che marks = \"))\n",
    "    math = int(input(\"Enter  math marks = \"))\n",
    "    eng = int(input(\"Enter eng marks = \"))\n",
    "    nep = int(input(\"Enter physics nep = \"))\n",
    "    total = sum([physics,che,math,eng,nep])\n",
    "    per = total/5\n",
    "    if per>=80:\n",
    "        grade = \"A\"\n",
    "    elif per >=60:\n",
    "        grade = \"B\"\n",
    "    elif per>=45:\n",
    "        grade = \"C\"\n",
    "    else:\n",
    "        grade = \"F\"\n",
    "    bio = input(\"Enter Bio = \")\n",
    "    sql = f\"INSERT INTO profile(name, physics, chemistry, math,english, nepali, total, per, grade, bio) \n",
    "    VALUES ('{name}',{physics},{che},{math},{eng},{nep},{total},{per},'{grade}','{bio}') \"\n",
    "    \n",
    "    db.execute(sql)\n",
    "    \n",
    "database.commit()\n",
    "print(db.rowcount, \"record inserted.\")"
   ]
  },
  {
   "cell_type": "code",
   "execution_count": 11,
   "metadata": {},
   "outputs": [
    {
     "name": "stdout",
     "output_type": "stream",
     "text": [
      "INSERT INTO profile(name, physics, chemistry, math,english, nepali, total, per, grade, bio) VALUES ('nabin',56,89,56,45,87,333,66.6,'B','He is average') \n"
     ]
    }
   ],
   "source": [
    "print(sql)"
   ]
  },
  {
   "cell_type": "code",
   "execution_count": 16,
   "metadata": {},
   "outputs": [
    {
     "name": "stdout",
     "output_type": "stream",
     "text": [
      "Enter id = 6\n",
      "Enter name = ram\n",
      "UPDATE profile SET name = 'ram' WHERE Sn = 6\n"
     ]
    }
   ],
   "source": [
    "# Update\n",
    "id = int(input(\"Enter id = \"))\n",
    "name = input(\"Enter name = \")\n",
    "sql = f\"UPDATE profile SET name = '{name}' WHERE Sn = {id}\"\n",
    "print(sql)\n",
    "db.execute(sql)\n",
    "database.commit()"
   ]
  },
  {
   "cell_type": "code",
   "execution_count": 18,
   "metadata": {},
   "outputs": [
    {
     "name": "stdout",
     "output_type": "stream",
     "text": [
      "Enter id = 7\n",
      "DELETE FROM profile WHERE Sn = 7\n"
     ]
    }
   ],
   "source": [
    "# Delete\n",
    "id = int(input(\"Enter id = \"))\n",
    "# name = input(\"Enter name = \")\n",
    "sql = f\"DELETE FROM profile WHERE Sn = {id}\"\n",
    "print(sql)\n",
    "db.execute(sql)\n",
    "database.commit()"
   ]
  },
  {
   "cell_type": "code",
   "execution_count": 13,
   "metadata": {},
   "outputs": [
    {
     "name": "stdout",
     "output_type": "stream",
     "text": [
      "Enter id = 6\n",
      "Enter subject (physics or chemistry or math or english or nepali) ie (0,1,2,3,4) = 0\n",
      "Enter Marks = 100\n",
      "physics\n",
      "UPDATE profile SET physics = '100' , total =419 , per = 83.8 WHERE Sn = 6\n"
     ]
    }
   ],
   "source": [
    "# Update\n",
    "id = int(input(\"Enter id = \"))\n",
    "subject = int(input(\"Enter subject (physics or chemistry or math or english or nepali) ie (0,1,2,3,4) = \"))\n",
    "marks = int(input(\"Enter Marks = \"))\n",
    "\n",
    "\n",
    "# fetching data\n",
    "db.execute(f\"SELECT physics,chemistry,math,english,nepali FROM profile WHERE Sn = {id}\")\n",
    "result =db.fetchall()\n",
    "l = list(result[0])\n",
    "\n",
    "all_sub = ('physics','chemistry','math','english','nepali')\n",
    "# l[subject] = marks\n",
    "total = sum(l)\n",
    "per = total/5\n",
    "sub = all_sub[subject]\n",
    "print(sub)\n",
    "\n",
    "\n",
    "\n",
    "sql = f\"UPDATE profile SET {sub} = '{marks}' , total ={total} , per = {per} WHERE Sn = {id}\"\n",
    "print(sql)\n",
    "db.execute(sql)\n",
    "database.commit()"
   ]
  },
  {
   "cell_type": "code",
   "execution_count": null,
   "metadata": {},
   "outputs": [],
   "source": []
  }
 ],
 "metadata": {
  "kernelspec": {
   "display_name": "Python 3",
   "language": "python",
   "name": "python3"
  },
  "language_info": {
   "codemirror_mode": {
    "name": "ipython",
    "version": 3
   },
   "file_extension": ".py",
   "mimetype": "text/x-python",
   "name": "python",
   "nbconvert_exporter": "python",
   "pygments_lexer": "ipython3",
   "version": "3.7.1"
  }
 },
 "nbformat": 4,
 "nbformat_minor": 2
}
