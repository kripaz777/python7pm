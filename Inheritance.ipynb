{
 "cells": [
  {
   "cell_type": "code",
   "execution_count": 2,
   "metadata": {},
   "outputs": [
    {
     "name": "stdout",
     "output_type": "stream",
     "text": [
      "Hello my name is Ram and I am from Kathmandu\n"
     ]
    }
   ],
   "source": [
    "class Profile:\n",
    "    def __init__(self,name,add):\n",
    "        self.name = name\n",
    "        self.add = add\n",
    "    \n",
    "class Info(Profile):\n",
    "    def info(self):\n",
    "        print(f\"Hello my name is {self.name} and I am from {self.add}\")\n",
    "        \n",
    "obj = Info('Ram',\"Kathmandu\")\n",
    "obj.info()"
   ]
  },
  {
   "cell_type": "code",
   "execution_count": 5,
   "metadata": {},
   "outputs": [
    {
     "name": "stdout",
     "output_type": "stream",
     "text": [
      "Enter name = Ram\n",
      "Enter add = Kathmandu\n",
      "Hello my name is Ram and I am from Kathmandu\n",
      "Ram Kathmandu\n"
     ]
    }
   ],
   "source": [
    "class Profile:\n",
    "    def __init__(self):\n",
    "        self.name = input(\"Enter name = \")\n",
    "        self.add = input(\"Enter add = \")\n",
    "        \n",
    "    def my_profile(self):\n",
    "        print(self.name,self.add)\n",
    "        \n",
    "class Info(Profile):\n",
    "    def hello(self):\n",
    "        print(f\"Hello my name is {self.name} and I am from {self.add}\")\n",
    "        \n",
    "        \n",
    "obj = Info()\n",
    "# obj1 = Profile()\n",
    "obj.hello()\n",
    "obj.my_profile()"
   ]
  },
  {
   "cell_type": "code",
   "execution_count": 6,
   "metadata": {},
   "outputs": [],
   "source": [
    "class A:\n",
    "    pass\n",
    "class B(A):\n",
    "    pass\n",
    "class C(B):\n",
    "    pass\n",
    "\n",
    "obj = C()"
   ]
  },
  {
   "cell_type": "code",
   "execution_count": 7,
   "metadata": {},
   "outputs": [
    {
     "name": "stdout",
     "output_type": "stream",
     "text": [
      "This is class A\n",
      "This is class B\n",
      "This is class C\n"
     ]
    }
   ],
   "source": [
    "class A:\n",
    "    print(\"This is class A\")\n",
    "class B(A):\n",
    "    print(\"This is class B\")\n",
    "class C(B):\n",
    "    print(\"This is class C\")\n",
    "\n",
    "obj = C()"
   ]
  },
  {
   "cell_type": "code",
   "execution_count": 13,
   "metadata": {},
   "outputs": [
    {
     "name": "stdout",
     "output_type": "stream",
     "text": [
      "Hello my name is Ram and I am from Kathmandu\n"
     ]
    }
   ],
   "source": [
    "class Name:\n",
    "    def __init__(self,name):\n",
    "        self.name = name\n",
    "        \n",
    "class Add(Name):\n",
    "    def __init__(self,add):\n",
    "        self.add = add\n",
    "        \n",
    "        \n",
    "class Info(Add):\n",
    "    def __init__(self,name,add):\n",
    "        Name.__init__(self,name)\n",
    "        Add.__init__(self,add)\n",
    "        \n",
    "    def info(self):\n",
    "        print(f\"Hello my name is {self.name} and I am from {self.add}\")\n",
    "        \n",
    "obj = Info('Ram',\"Kathmandu\")\n",
    "obj.info()"
   ]
  },
  {
   "cell_type": "code",
   "execution_count": 16,
   "metadata": {},
   "outputs": [
    {
     "name": "stdout",
     "output_type": "stream",
     "text": [
      "Hello my name is Ram and I am from Kathmandu\n"
     ]
    }
   ],
   "source": [
    "class Name:\n",
    "    def __init__(self,x):\n",
    "        self.name = x\n",
    "        \n",
    "class Add:\n",
    "    def __init__(self,y):\n",
    "        self.add = y\n",
    "        \n",
    "        \n",
    "class Info(Name,Add):\n",
    "    def __init__(self,x,y):\n",
    "        Name.__init__(self,x)\n",
    "        Add.__init__(self,y)\n",
    "        \n",
    "    def info(self):\n",
    "        print(f\"Hello my name is {self.name} and I am from {self.add}\")\n",
    "        \n",
    "obj = Info('Ram',\"Kathmandu\")\n",
    "obj.info()"
   ]
  },
  {
   "cell_type": "code",
   "execution_count": null,
   "metadata": {},
   "outputs": [],
   "source": [
    "class Profile:\n",
    "    def __init__(self,name,add):\n",
    "        self.name = name\n",
    "        self.add = add\n",
    "    \n",
    "class Info(Profile):\n",
    "    def __init__(self,name,add,sal):\n",
    "        Profile.__init__(self,name,add)\n",
    "        self.sal - sal\n",
    "        \n",
    "    def info(self):\n",
    "        print(f\"Hello my name is {self.name} and I am from {self.add}\")\n",
    "        \n",
    "obj = Info('Ram',\"Kathmandu\",100000)\n",
    "obj.info()"
   ]
  },
  {
   "cell_type": "code",
   "execution_count": 1,
   "metadata": {},
   "outputs": [
    {
     "name": "stdout",
     "output_type": "stream",
     "text": [
      "Ram\n",
      "Kathmandu\n"
     ]
    }
   ],
   "source": [
    "# Public members\n",
    "class Profile:\n",
    "    def __init__(self,name,add):\n",
    "        self.name = name\n",
    "        self.add = add\n",
    "        \n",
    "obj = Profile(\"Ram\",\"Kathmandu\")\n",
    "print(obj.name)\n",
    "print(obj.add)\n"
   ]
  },
  {
   "cell_type": "code",
   "execution_count": 2,
   "metadata": {},
   "outputs": [
    {
     "ename": "AttributeError",
     "evalue": "'Profile' object has no attribute 'name'",
     "output_type": "error",
     "traceback": [
      "\u001b[1;31m---------------------------------------------------------------------------\u001b[0m",
      "\u001b[1;31mAttributeError\u001b[0m                            Traceback (most recent call last)",
      "\u001b[1;32m<ipython-input-2-a716a397bf29>\u001b[0m in \u001b[0;36m<module>\u001b[1;34m\u001b[0m\n\u001b[0;32m      6\u001b[0m \u001b[1;33m\u001b[0m\u001b[0m\n\u001b[0;32m      7\u001b[0m \u001b[0mobj\u001b[0m \u001b[1;33m=\u001b[0m \u001b[0mProfile\u001b[0m\u001b[1;33m(\u001b[0m\u001b[1;34m\"Ram\"\u001b[0m\u001b[1;33m,\u001b[0m\u001b[1;34m\"Kathmandu\"\u001b[0m\u001b[1;33m)\u001b[0m\u001b[1;33m\u001b[0m\u001b[1;33m\u001b[0m\u001b[0m\n\u001b[1;32m----> 8\u001b[1;33m \u001b[0mprint\u001b[0m\u001b[1;33m(\u001b[0m\u001b[0mobj\u001b[0m\u001b[1;33m.\u001b[0m\u001b[0mname\u001b[0m\u001b[1;33m)\u001b[0m\u001b[1;33m\u001b[0m\u001b[1;33m\u001b[0m\u001b[0m\n\u001b[0m\u001b[0;32m      9\u001b[0m \u001b[0mprint\u001b[0m\u001b[1;33m(\u001b[0m\u001b[0mobj\u001b[0m\u001b[1;33m.\u001b[0m\u001b[0madd\u001b[0m\u001b[1;33m)\u001b[0m\u001b[1;33m\u001b[0m\u001b[1;33m\u001b[0m\u001b[0m\n",
      "\u001b[1;31mAttributeError\u001b[0m: 'Profile' object has no attribute 'name'"
     ]
    }
   ],
   "source": [
    "# Protected members\n",
    "class Profile:\n",
    "    def __init__(self,name,add):\n",
    "        self._name = name\n",
    "        self._add = add\n",
    "        \n",
    "obj = Profile(\"Ram\",\"Kathmandu\")\n",
    "print(obj.name)\n",
    "print(obj.add)\n"
   ]
  },
  {
   "cell_type": "code",
   "execution_count": 3,
   "metadata": {},
   "outputs": [
    {
     "name": "stdout",
     "output_type": "stream",
     "text": [
      "Ram\n",
      "Kathmandu\n"
     ]
    }
   ],
   "source": [
    "# Protected members\n",
    "class Profile:\n",
    "    def __init__(self,name,add):\n",
    "        self._name = name\n",
    "        self._add = add\n",
    "        \n",
    "obj = Profile(\"Ram\",\"Kathmandu\")\n",
    "print(obj._name)\n",
    "print(obj._add)\n"
   ]
  },
  {
   "cell_type": "code",
   "execution_count": 4,
   "metadata": {},
   "outputs": [
    {
     "ename": "AttributeError",
     "evalue": "'Profile' object has no attribute '__name'",
     "output_type": "error",
     "traceback": [
      "\u001b[1;31m---------------------------------------------------------------------------\u001b[0m",
      "\u001b[1;31mAttributeError\u001b[0m                            Traceback (most recent call last)",
      "\u001b[1;32m<ipython-input-4-8e6c760ab76e>\u001b[0m in \u001b[0;36m<module>\u001b[1;34m\u001b[0m\n\u001b[0;32m      6\u001b[0m \u001b[1;33m\u001b[0m\u001b[0m\n\u001b[0;32m      7\u001b[0m \u001b[0mobj\u001b[0m \u001b[1;33m=\u001b[0m \u001b[0mProfile\u001b[0m\u001b[1;33m(\u001b[0m\u001b[1;34m\"Ram\"\u001b[0m\u001b[1;33m,\u001b[0m\u001b[1;34m\"Kathmandu\"\u001b[0m\u001b[1;33m)\u001b[0m\u001b[1;33m\u001b[0m\u001b[1;33m\u001b[0m\u001b[0m\n\u001b[1;32m----> 8\u001b[1;33m \u001b[0mprint\u001b[0m\u001b[1;33m(\u001b[0m\u001b[0mobj\u001b[0m\u001b[1;33m.\u001b[0m\u001b[0m__name\u001b[0m\u001b[1;33m)\u001b[0m\u001b[1;33m\u001b[0m\u001b[1;33m\u001b[0m\u001b[0m\n\u001b[0m\u001b[0;32m      9\u001b[0m \u001b[0mprint\u001b[0m\u001b[1;33m(\u001b[0m\u001b[0mobj\u001b[0m\u001b[1;33m.\u001b[0m\u001b[0m__add\u001b[0m\u001b[1;33m)\u001b[0m\u001b[1;33m\u001b[0m\u001b[1;33m\u001b[0m\u001b[0m\n",
      "\u001b[1;31mAttributeError\u001b[0m: 'Profile' object has no attribute '__name'"
     ]
    }
   ],
   "source": [
    "# Private members\n",
    "class Profile:\n",
    "    def __init__(self,name,add):\n",
    "        self.__name = name\n",
    "        self.__add = add\n",
    "        \n",
    "obj = Profile(\"Ram\",\"Kathmandu\")\n",
    "print(obj.__name)\n",
    "print(obj.__add)\n"
   ]
  },
  {
   "cell_type": "code",
   "execution_count": 5,
   "metadata": {},
   "outputs": [
    {
     "name": "stdout",
     "output_type": "stream",
     "text": [
      "Ram\n",
      "Kathmandu\n"
     ]
    }
   ],
   "source": [
    "# Private members\n",
    "class Profile:\n",
    "    def __init__(self,name,add):\n",
    "        self.__name = name\n",
    "        self.__add = add\n",
    "        \n",
    "obj = Profile(\"Ram\",\"Kathmandu\")\n",
    "print(obj._Profile__name)\n",
    "print(obj._Profile__add)"
   ]
  },
  {
   "cell_type": "code",
   "execution_count": 6,
   "metadata": {},
   "outputs": [
    {
     "name": "stdout",
     "output_type": "stream",
     "text": [
      "Hello my name is Ram and I am from Kathmandu My salary is 100000\n"
     ]
    }
   ],
   "source": [
    "class Profile:\n",
    "    def __init__(self,name,add):\n",
    "        self._name = name\n",
    "        self.add = add\n",
    "    \n",
    "class Info(Profile):\n",
    "    def __init__(self,name,add,sal):\n",
    "        Profile.__init__(self,name,add)\n",
    "        self.__sal = sal\n",
    "        \n",
    "    def info(self):\n",
    "        print(f\"Hello my name is {self._name} and I am from {self.add} My salary is {self.__sal}\")\n",
    "        \n",
    "obj = Info('Ram',\"Kathmandu\",100000)\n",
    "obj.info()"
   ]
  },
  {
   "cell_type": "code",
   "execution_count": 8,
   "metadata": {},
   "outputs": [
    {
     "name": "stdout",
     "output_type": "stream",
     "text": [
      "Hello my name is Ram and I am from Kathmandu My salary is 100000\n",
      "Ram\n",
      "Kathmandu\n",
      "100000\n"
     ]
    }
   ],
   "source": [
    "class Profile:\n",
    "    def __init__(self,name,add):\n",
    "        self._name = name\n",
    "        self.__add = add\n",
    "    \n",
    "class Info(Profile):\n",
    "    def __init__(self,name,add,sal):\n",
    "        Profile.__init__(self,name,add)\n",
    "        self.sal = sal\n",
    "        \n",
    "    def info(self):\n",
    "        print(f\"Hello my name is {self._name} and I am from {self._Profile__add} My salary is {self.sal}\")\n",
    "        \n",
    "obj = Info('Ram',\"Kathmandu\",100000)\n",
    "obj.info()\n",
    "print(obj._name)\n",
    "print(obj._Profile__add)\n",
    "print(obj.sal)"
   ]
  },
  {
   "cell_type": "code",
   "execution_count": 9,
   "metadata": {},
   "outputs": [
    {
     "name": "stdout",
     "output_type": "stream",
     "text": [
      "Hello my name is Ram and I am from Kathmandu My salary is 100000\n"
     ]
    }
   ],
   "source": [
    "class Profile:\n",
    "    def __init__(self,name,add):\n",
    "        self._name = name\n",
    "        self.__add = add\n",
    "    def address(self):\n",
    "        return self.__add\n",
    "    \n",
    "    \n",
    "class Info(Profile):\n",
    "    def __init__(self,name,add,sal):\n",
    "        Profile.__init__(self,name,add)\n",
    "        self.sal = sal\n",
    "        \n",
    "    def info(self):\n",
    "        print(f\"Hello my name is {self._name} and I am from {Profile.address(self)} My salary is {self.sal}\")\n",
    "        \n",
    "obj = Info('Ram',\"Kathmandu\",100000)\n",
    "obj.info()\n"
   ]
  },
  {
   "cell_type": "code",
   "execution_count": 11,
   "metadata": {},
   "outputs": [
    {
     "name": "stdout",
     "output_type": "stream",
     "text": [
      "Hello my name is Ram and I am from Kathmandu My salary is 100000\n",
      "Kathmandu\n"
     ]
    }
   ],
   "source": [
    "class Profile:\n",
    "    def __init__(self,name,add):\n",
    "        self._name = name\n",
    "        self.__add = add\n",
    "    def address(self):\n",
    "        return self.__add\n",
    "    \n",
    "    \n",
    "class Info(Profile):\n",
    "    def __init__(self,name,add,sal):\n",
    "        Profile.__init__(self,name,add)\n",
    "        self.sal = sal\n",
    "        \n",
    "    def info(self):\n",
    "        print(f\"Hello my name is {self._name} and I am from {super().address()} My salary is {self.sal}\")\n",
    "        print(super().address())\n",
    "        \n",
    "obj = Info('Ram',\"Kathmandu\",100000)\n",
    "obj.info()\n"
   ]
  },
  {
   "cell_type": "code",
   "execution_count": 30,
   "metadata": {},
   "outputs": [
    {
     "name": "stdout",
     "output_type": "stream",
     "text": [
      "Shyam\n",
      "59\n"
     ]
    },
    {
     "data": {
      "text/plain": [
       "10"
      ]
     },
     "execution_count": 30,
     "metadata": {},
     "output_type": "execute_result"
    }
   ],
   "source": [
    "class Info:\n",
    "    def __init__(self,name,ag):\n",
    "        self.name = name\n",
    "        self.ag = ag\n",
    "    @classmethod\n",
    "    def info(cls,na,agg):\n",
    "        return cls(na,agg)\n",
    "        \n",
    "    @staticmethod    \n",
    "    def age(a):\n",
    "        return a\n",
    "    \n",
    "obj = Info(\"Ram\",67)\n",
    "obj1 = Info.info('Shyam',59)\n",
    "print(obj1.name)\n",
    "print(obj1.ag)\n",
    "# print(obj1.agg)\n",
    "obj.age(10)"
   ]
  },
  {
   "cell_type": "code",
   "execution_count": null,
   "metadata": {},
   "outputs": [],
   "source": []
  }
 ],
 "metadata": {
  "kernelspec": {
   "display_name": "Python 3",
   "language": "python",
   "name": "python3"
  },
  "language_info": {
   "codemirror_mode": {
    "name": "ipython",
    "version": 3
   },
   "file_extension": ".py",
   "mimetype": "text/x-python",
   "name": "python",
   "nbconvert_exporter": "python",
   "pygments_lexer": "ipython3",
   "version": "3.7.1"
  }
 },
 "nbformat": 4,
 "nbformat_minor": 2
}
