{
 "cells": [
  {
   "cell_type": "code",
   "execution_count": 1,
   "metadata": {},
   "outputs": [],
   "source": [
    "# a = {}\n",
    "# Dict\n",
    "# -Indexing\n",
    "# -Ordered\n",
    "# -Duplicate values\n",
    "# -Mutable"
   ]
  },
  {
   "cell_type": "code",
   "execution_count": 2,
   "metadata": {},
   "outputs": [],
   "source": [
    "# d = {<key>:<value>,<key>:<value>,<key>:<value>}"
   ]
  },
  {
   "cell_type": "code",
   "execution_count": 3,
   "metadata": {},
   "outputs": [
    {
     "data": {
      "text/plain": [
       "{'a': 'Apple', 'b': 'Ball'}"
      ]
     },
     "execution_count": 3,
     "metadata": {},
     "output_type": "execute_result"
    }
   ],
   "source": [
    "d = {\"a\":\"Apple\",\"b\":\"Ball\"}\n",
    "d"
   ]
  },
  {
   "cell_type": "code",
   "execution_count": 5,
   "metadata": {},
   "outputs": [
    {
     "name": "stdout",
     "output_type": "stream",
     "text": [
      "Apple\n",
      "Ball\n",
      "Cat\n"
     ]
    }
   ],
   "source": [
    "d = {\"a\":\"Apple\",\"b\":\"Ball\",\"c\":\"Cat\"}\n",
    "print(d['a'])\n",
    "print(d[\"b\"])\n",
    "print(d[\"c\"])"
   ]
  },
  {
   "cell_type": "code",
   "execution_count": 7,
   "metadata": {},
   "outputs": [
    {
     "name": "stdout",
     "output_type": "stream",
     "text": [
      "Apple\n",
      "Ball\n",
      "1\n"
     ]
    }
   ],
   "source": [
    "d = {1:\"Apple\",2:\"Ball\",\"c\":1}\n",
    "print(d[1])\n",
    "print(d[2])\n",
    "print(d[\"c\"])"
   ]
  },
  {
   "cell_type": "code",
   "execution_count": 8,
   "metadata": {},
   "outputs": [
    {
     "data": {
      "text/plain": [
       "{'a': 'Apple', 'b': 'Ball', 'c': 'Cat'}"
      ]
     },
     "execution_count": 8,
     "metadata": {},
     "output_type": "execute_result"
    }
   ],
   "source": [
    "d = {\"a\":\"Apple\",\"b\":\"Ball\",\"c\":\"Cat\"}\n",
    "d"
   ]
  },
  {
   "cell_type": "code",
   "execution_count": 9,
   "metadata": {},
   "outputs": [
    {
     "name": "stdout",
     "output_type": "stream",
     "text": [
      "{'a': 'Apple', 'b': 'Ball', 'c': 'Cat', 'C': 'Cat'}\n"
     ]
    }
   ],
   "source": [
    "d = {\"a\":\"Apple\",\"b\":\"Ball\",\"c\":\"Cat\",\"C\":\"Cat\"}\n",
    "print(d)"
   ]
  },
  {
   "cell_type": "code",
   "execution_count": 10,
   "metadata": {},
   "outputs": [
    {
     "name": "stdout",
     "output_type": "stream",
     "text": [
      "{'a': 'Apple', 'b': 'Ball', 'c': 'Cup'}\n"
     ]
    }
   ],
   "source": [
    "d = {\"a\":\"Apple\",\"b\":\"Ball\",\"c\":\"Cat\",\"c\":\"Cup\"}\n",
    "print(d)"
   ]
  },
  {
   "cell_type": "code",
   "execution_count": 12,
   "metadata": {},
   "outputs": [
    {
     "name": "stdout",
     "output_type": "stream",
     "text": [
      "{'a': 'Apple', 'b': 'Ball', 'c': 'Cat'}\n"
     ]
    }
   ],
   "source": [
    "a = {}\n",
    "a['a'] = \"Apple\"\n",
    "a['b'] = \"Ball\"\n",
    "a['c'] = \"Cat\"\n",
    "print(a)"
   ]
  },
  {
   "cell_type": "code",
   "execution_count": 13,
   "metadata": {},
   "outputs": [
    {
     "name": "stdout",
     "output_type": "stream",
     "text": [
      "{'a': 'Apple', 'b': 'Ball', 'c': 'Cup'}\n"
     ]
    }
   ],
   "source": [
    "a = {}\n",
    "a['a'] = \"Apple\"\n",
    "a['b'] = \"Ball\"\n",
    "a['c'] = \"Cat\"\n",
    "a['c'] = \"Cup\"\n",
    "print(a)"
   ]
  },
  {
   "cell_type": "code",
   "execution_count": 14,
   "metadata": {},
   "outputs": [
    {
     "name": "stdout",
     "output_type": "stream",
     "text": [
      "Enter n = 2\n",
      "Enter name = Ram\n",
      "Enter name = Shyam\n",
      "{0: 'Ram', 1: 'Shyam'}\n"
     ]
    }
   ],
   "source": [
    "a = {}\n",
    "n = int(input(\"Enter n = \"))\n",
    "for i in range(n):\n",
    "    name = input(\"Enter name = \")\n",
    "    a[i] = name\n",
    "print(a)"
   ]
  },
  {
   "cell_type": "code",
   "execution_count": 15,
   "metadata": {},
   "outputs": [
    {
     "name": "stdout",
     "output_type": "stream",
     "text": [
      "Enter n = 2\n",
      "Enter name = Ram\n",
      "Enter phone = 9856554543\n",
      "Enter name = Shyam\n",
      "Enter phone = 9856554543\n",
      "{'Ram': 9856554543, 'Shyam': 9856554543}\n"
     ]
    }
   ],
   "source": [
    "a = {}\n",
    "n = int(input(\"Enter n = \"))\n",
    "for i in range(n):\n",
    "    name = input(\"Enter name = \")\n",
    "    phone = int(input(\"Enter phone = \"))\n",
    "    a[name] = phone\n",
    "print(a)"
   ]
  },
  {
   "cell_type": "code",
   "execution_count": 17,
   "metadata": {},
   "outputs": [
    {
     "name": "stdout",
     "output_type": "stream",
     "text": [
      "['Ram', 'Shyam']\n"
     ]
    }
   ],
   "source": [
    "a = {'Ram': 9856554543, 'Shyam': 9856554543}\n",
    "b = list(a)\n",
    "print(b)"
   ]
  },
  {
   "cell_type": "code",
   "execution_count": 19,
   "metadata": {},
   "outputs": [
    {
     "name": "stdout",
     "output_type": "stream",
     "text": [
      "[9856554543, 9856554543]\n"
     ]
    }
   ],
   "source": [
    "a = {'Ram': 9856554543, 'Shyam': 9856554543}\n",
    "b = list(a.values())\n",
    "print(b)"
   ]
  },
  {
   "cell_type": "code",
   "execution_count": 22,
   "metadata": {},
   "outputs": [
    {
     "name": "stdout",
     "output_type": "stream",
     "text": [
      "[('Ram', 9856554543), ('Shyam', 9856554543)]\n"
     ]
    }
   ],
   "source": [
    "a = {'Ram': 9856554543, 'Shyam': 9856554543}\n",
    "b = list(a.items())\n",
    "print(b)"
   ]
  },
  {
   "cell_type": "code",
   "execution_count": 23,
   "metadata": {},
   "outputs": [
    {
     "name": "stdout",
     "output_type": "stream",
     "text": [
      "Ram\n",
      "Shyam\n"
     ]
    }
   ],
   "source": [
    "a = {'Ram': 9856554543, 'Shyam': 9856554543}\n",
    "for i in a:\n",
    "    print(i)"
   ]
  },
  {
   "cell_type": "code",
   "execution_count": 24,
   "metadata": {},
   "outputs": [
    {
     "name": "stdout",
     "output_type": "stream",
     "text": [
      "9856554543\n",
      "9856554543\n"
     ]
    }
   ],
   "source": [
    "a = {'Ram': 9856554543, 'Shyam': 9856554543}\n",
    "for i in a.values():\n",
    "    print(i)"
   ]
  },
  {
   "cell_type": "code",
   "execution_count": 25,
   "metadata": {},
   "outputs": [
    {
     "name": "stdout",
     "output_type": "stream",
     "text": [
      "('Ram', 9856554543)\n",
      "('Shyam', 9856554543)\n"
     ]
    }
   ],
   "source": [
    "a = {'Ram': 9856554543, 'Shyam': 9856554543}\n",
    "for i in a.items():\n",
    "    print(i)"
   ]
  },
  {
   "cell_type": "code",
   "execution_count": 26,
   "metadata": {},
   "outputs": [
    {
     "data": {
      "text/plain": [
       "{'Shyam': 9856554543}"
      ]
     },
     "execution_count": 26,
     "metadata": {},
     "output_type": "execute_result"
    }
   ],
   "source": [
    "a = {'Ram': 9856554543, 'Shyam': 9856554543}\n",
    "del a['Ram']\n",
    "a"
   ]
  },
  {
   "cell_type": "code",
   "execution_count": 29,
   "metadata": {},
   "outputs": [
    {
     "name": "stdout",
     "output_type": "stream",
     "text": [
      "{'Shyam': 9856554543}\n"
     ]
    }
   ],
   "source": [
    "a = {'Ram': 9856554543, 'Shyam': 9856554543}\n",
    "a.pop('Ram')\n",
    "print(a)"
   ]
  },
  {
   "cell_type": "code",
   "execution_count": 30,
   "metadata": {},
   "outputs": [
    {
     "name": "stdout",
     "output_type": "stream",
     "text": [
      "{'Shyam': 9856554543}\n",
      "9856554543\n"
     ]
    }
   ],
   "source": [
    "a = {'Ram': 9856554543, 'Shyam': 9856554543}\n",
    "x = a.pop('Ram')\n",
    "print(a)\n",
    "print(x)"
   ]
  },
  {
   "cell_type": "code",
   "execution_count": 33,
   "metadata": {},
   "outputs": [
    {
     "name": "stdout",
     "output_type": "stream",
     "text": [
      "{'Ram': 9856554543, 'Shyam': 9856554543, 'Hari': 9856554543}\n"
     ]
    }
   ],
   "source": [
    "a = {'Ram': 9856554543, 'Shyam': 9856554543}\n",
    "b = {'Hari':9856554543}\n",
    "a.update(b)\n",
    "print(a)"
   ]
  },
  {
   "cell_type": "code",
   "execution_count": 35,
   "metadata": {},
   "outputs": [
    {
     "name": "stdout",
     "output_type": "stream",
     "text": [
      "{('Ram', 'Sita'): 9856554543, 'Shyam': 9856554543}\n"
     ]
    }
   ],
   "source": [
    "a = {('Ram','Sita'): 9856554543, 'Shyam': 9856554543}\n",
    "print(a)"
   ]
  },
  {
   "cell_type": "code",
   "execution_count": 36,
   "metadata": {},
   "outputs": [
    {
     "ename": "TypeError",
     "evalue": "unhashable type: 'list'",
     "output_type": "error",
     "traceback": [
      "\u001b[1;31m---------------------------------------------------------------------------\u001b[0m",
      "\u001b[1;31mTypeError\u001b[0m                                 Traceback (most recent call last)",
      "\u001b[1;32m<ipython-input-36-1ec8bdde7978>\u001b[0m in \u001b[0;36m<module>\u001b[1;34m\u001b[0m\n\u001b[1;32m----> 1\u001b[1;33m \u001b[0ma\u001b[0m \u001b[1;33m=\u001b[0m \u001b[1;33m{\u001b[0m\u001b[1;33m[\u001b[0m\u001b[1;34m'Ram'\u001b[0m\u001b[1;33m,\u001b[0m\u001b[1;34m'Sita'\u001b[0m\u001b[1;33m]\u001b[0m\u001b[1;33m:\u001b[0m \u001b[1;36m9856554543\u001b[0m\u001b[1;33m,\u001b[0m \u001b[1;34m'Shyam'\u001b[0m\u001b[1;33m:\u001b[0m \u001b[1;36m9856554543\u001b[0m\u001b[1;33m}\u001b[0m\u001b[1;33m\u001b[0m\u001b[1;33m\u001b[0m\u001b[0m\n\u001b[0m\u001b[0;32m      2\u001b[0m \u001b[0mprint\u001b[0m\u001b[1;33m(\u001b[0m\u001b[0ma\u001b[0m\u001b[1;33m)\u001b[0m\u001b[1;33m\u001b[0m\u001b[1;33m\u001b[0m\u001b[0m\n",
      "\u001b[1;31mTypeError\u001b[0m: unhashable type: 'list'"
     ]
    }
   ],
   "source": [
    "a = {['Ram','Sita']: 9856554543, 'Shyam': 9856554543}\n",
    "print(a)"
   ]
  },
  {
   "cell_type": "code",
   "execution_count": null,
   "metadata": {},
   "outputs": [],
   "source": [
    "a = {'Sita': [9856554543,9808556543], 'Shyam': [9856554543,9808445654]}\n",
    "\n",
    "b = {'Sita': (9856554543,9808556543), 'Shyam': (9856554543,9808445654)}\n",
    "\n",
    "c = [{'Sita':9856554543},{'Shyam':9867665654}]\n",
    "\n",
    "d = ({'Sita':9856554543},{'Shyam':9867665654})\n",
    "\n",
    "e = {'Sita':{'NTC':9867665654,'NCELL':9808556543},\n",
    "    'Ram':{'NTC':9867665687,'NCELL':98085565778}}"
   ]
  },
  {
   "cell_type": "code",
   "execution_count": 39,
   "metadata": {},
   "outputs": [
    {
     "name": "stdout",
     "output_type": "stream",
     "text": [
      "[9856554543, 9808445654]\n"
     ]
    }
   ],
   "source": [
    "# list inside dict\n",
    "a = {'Sita': [9856554543,9808556543], 'Shyam': [9856554543,9808445654]}\n",
    "print(a['Shyam'])"
   ]
  },
  {
   "cell_type": "code",
   "execution_count": 40,
   "metadata": {},
   "outputs": [
    {
     "data": {
      "text/plain": [
       "{'Sita': [9856554543, 9808556543],\n",
       " 'Shyam': [9856554543, 9808445654],\n",
       " 'Hari': [9843556543, 9808556543]}"
      ]
     },
     "execution_count": 40,
     "metadata": {},
     "output_type": "execute_result"
    }
   ],
   "source": [
    "a = {'Sita': [9856554543,9808556543], 'Shyam': [9856554543,9808445654]}\n",
    "a['Hari'] = [9843556543,9808556543]\n",
    "a"
   ]
  },
  {
   "cell_type": "code",
   "execution_count": 42,
   "metadata": {},
   "outputs": [
    {
     "data": {
      "text/plain": [
       "{'Sita': [9856554543, 9808556543],\n",
       " 'Shyam': [9856554543, 9808445654],\n",
       " 'Hari': [9841223219, 9808556543]}"
      ]
     },
     "execution_count": 42,
     "metadata": {},
     "output_type": "execute_result"
    }
   ],
   "source": [
    "a = {'Sita': [9856554543, 9808556543],\n",
    " 'Shyam': [9856554543, 9808445654],\n",
    " 'Hari': [9843556543, 9808556543]}\n",
    "a['Hari'][0] = 9841223219\n",
    "a"
   ]
  },
  {
   "cell_type": "code",
   "execution_count": 43,
   "metadata": {},
   "outputs": [
    {
     "name": "stdout",
     "output_type": "stream",
     "text": [
      "Enter n = 2\n",
      "Enter name = Ram\n",
      "Enter ntc phone = 9845443432\n",
      "Enter ncell phone = 9808556543\n",
      "Enter name = Shyam\n",
      "Enter ntc phone = 9867554543\n",
      "Enter ncell phone = 9808556543\n",
      "{'Ram': [9845443432, 9808556543], 'Shyam': [9867554543, 9808556543]}\n"
     ]
    }
   ],
   "source": [
    "a = {}\n",
    "n = int(input(\"Enter n = \"))\n",
    "for i in range(n):\n",
    "    name = input(\"Enter name = \")\n",
    "    ntc = int(input(\"Enter ntc phone = \"))\n",
    "    ncell = int(input(\"Enter ncell phone = \"))\n",
    "    a[name] = [ntc,ncell]\n",
    "print(a)"
   ]
  },
  {
   "cell_type": "code",
   "execution_count": 44,
   "metadata": {},
   "outputs": [
    {
     "name": "stdout",
     "output_type": "stream",
     "text": [
      "Enter n = 2\n",
      "Enter name = Ram\n",
      "Enter ntc phone = 53534534\n",
      "Enter ncell phone = 3534545\n",
      "Enter name = Shyam\n",
      "Enter ntc phone = 435435454\n",
      "Enter ncell phone = 5345435345\n",
      "{'Ram': (53534534, 3534545), 'Shyam': (435435454, 5345435345)}\n"
     ]
    }
   ],
   "source": [
    "a = {}\n",
    "n = int(input(\"Enter n = \"))\n",
    "for i in range(n):\n",
    "    name = input(\"Enter name = \")\n",
    "    ntc = int(input(\"Enter ntc phone = \"))\n",
    "    ncell = int(input(\"Enter ncell phone = \"))\n",
    "    a[name] = (ntc,ncell)\n",
    "print(a)"
   ]
  },
  {
   "cell_type": "code",
   "execution_count": 46,
   "metadata": {},
   "outputs": [
    {
     "data": {
      "text/plain": [
       "{'Shyam': (435435454, 5345435345)}"
      ]
     },
     "execution_count": 46,
     "metadata": {},
     "output_type": "execute_result"
    }
   ],
   "source": [
    "a = {'Ram': (53534534, 3534545), 'Shyam': (435435454, 5345435345)}\n",
    "del a['Ram']\n",
    "a"
   ]
  },
  {
   "cell_type": "code",
   "execution_count": 48,
   "metadata": {},
   "outputs": [
    {
     "data": {
      "text/plain": [
       "{'Ram': [9845443432, 9808556543, 4453432], 'Shyam': [9867554543, 9808556543]}"
      ]
     },
     "execution_count": 48,
     "metadata": {},
     "output_type": "execute_result"
    }
   ],
   "source": [
    "a = {'Ram': [9845443432, 9808556543], 'Shyam': [9867554543, 9808556543]}\n",
    "a['Ram'].append(4453432)\n",
    "a"
   ]
  },
  {
   "cell_type": "code",
   "execution_count": 1,
   "metadata": {},
   "outputs": [
    {
     "name": "stdout",
     "output_type": "stream",
     "text": [
      "[{'Name': 'Ram', 'Age': 34, 'Address': 'Nepal'}, {'Name': 'Rama', 'Age': 33, 'Address': 'USA'}]\n"
     ]
    }
   ],
   "source": [
    "# dict inside list\n",
    "a = [{\"Name\":\"Ram\",\"Age\":34,\"Address\":\"Nepal\"},\n",
    "    {\"Name\":\"Rama\",\"Age\":33,\"Address\":\"USA\"}]\n",
    "print(a)"
   ]
  },
  {
   "cell_type": "code",
   "execution_count": 2,
   "metadata": {},
   "outputs": [
    {
     "name": "stdout",
     "output_type": "stream",
     "text": [
      "{'Name': 'Ram', 'Age': 34, 'Address': 'Nepal'}\n",
      "{'Name': 'Rama', 'Age': 33, 'Address': 'USA'}\n"
     ]
    }
   ],
   "source": [
    "for i in a:\n",
    "    print(i)"
   ]
  },
  {
   "cell_type": "code",
   "execution_count": 4,
   "metadata": {},
   "outputs": [
    {
     "name": "stdout",
     "output_type": "stream",
     "text": [
      "Enter n = 2\n",
      "Entter the value of name = Ram\n",
      "Enter age = 45\n",
      "Enter add = Kathmandu\n",
      "Entter the value of name = Shyam\n",
      "Enter age = 45\n",
      "Enter add = Kathmandu\n",
      "[{'Name': 'Ram', 'Age': '45', 'Add': 'Kathmandu'}, {'Name': 'Shyam', 'Age': '45', 'Add': 'Kathmandu'}]\n"
     ]
    }
   ],
   "source": [
    "a = []\n",
    "n = int(input(\"Enter n = \"))\n",
    "for i in range(n):\n",
    "    name = input(\"Entter the value of name = \")\n",
    "    age = input(\"Enter age = \")\n",
    "    add = input(\"Enter add = \")\n",
    "    d = {\"Name\":name,\"Age\":age,\"Add\":add}\n",
    "    a.append(d)\n",
    "    \n",
    "print(a)"
   ]
  },
  {
   "cell_type": "code",
   "execution_count": 5,
   "metadata": {},
   "outputs": [
    {
     "name": "stdout",
     "output_type": "stream",
     "text": [
      "{'Name': 'Ram', 'Age': '45', 'Add': 'Kathmandu'}\n",
      "{'Name': 'Shyam', 'Age': '45', 'Add': 'Kathmandu'}\n"
     ]
    }
   ],
   "source": [
    "a = [{'Name': 'Ram', 'Age': '45', 'Add': 'Kathmandu'}, {'Name': 'Shyam', 'Age': '45', 'Add': 'Kathmandu'}]\n",
    "for i in a:\n",
    "    print(i)"
   ]
  },
  {
   "cell_type": "code",
   "execution_count": 6,
   "metadata": {},
   "outputs": [
    {
     "name": "stdout",
     "output_type": "stream",
     "text": [
      "dict_values(['Ram', '45', 'Kathmandu'])\n",
      "dict_values(['Shyam', '45', 'Kathmandu'])\n"
     ]
    }
   ],
   "source": [
    "a = [{'Name': 'Ram', 'Age': '45', 'Add': 'Kathmandu'}, \n",
    "     {'Name': 'Shyam', 'Age': '45', 'Add': 'Kathmandu'}]\n",
    "for i in a:\n",
    "    print(i.values())"
   ]
  },
  {
   "cell_type": "code",
   "execution_count": 8,
   "metadata": {},
   "outputs": [
    {
     "name": "stdout",
     "output_type": "stream",
     "text": [
      "dict_items([('Name', 'Ram'), ('Age', '45'), ('Add', 'Kathmandu')])\n",
      "dict_items([('Name', 'Shyam'), ('Age', '45'), ('Add', 'Kathmandu')])\n"
     ]
    }
   ],
   "source": [
    "a = [{'Name': 'Ram', 'Age': '45', 'Add': 'Kathmandu'}, \n",
    "     {'Name': 'Shyam', 'Age': '45', 'Add': 'Kathmandu'}]\n",
    "for i in a:\n",
    "    print(i.items())"
   ]
  },
  {
   "cell_type": "code",
   "execution_count": 9,
   "metadata": {},
   "outputs": [
    {
     "name": "stdout",
     "output_type": "stream",
     "text": [
      "{'Name': 'Ram', 'Age': '45', 'Add': 'Kathmandu'}\n"
     ]
    }
   ],
   "source": [
    "a = [{'Name': 'Ram', 'Age': '45', 'Add': 'Kathmandu'}, \n",
    "     {'Name': 'Shyam', 'Age': '45', 'Add': 'Kathmandu'}]\n",
    "for i in a:\n",
    "    if i['Name'] == 'Ram':\n",
    "        print(i)"
   ]
  },
  {
   "cell_type": "code",
   "execution_count": 11,
   "metadata": {},
   "outputs": [
    {
     "name": "stdout",
     "output_type": "stream",
     "text": [
      "{'Name': 'Ram', 'Age': 45, 'Add': 'Kathmandu'}\n"
     ]
    }
   ],
   "source": [
    "a = [{'Name': 'Ram', 'Age': 45, 'Add': 'Kathmandu'}, \n",
    "     {'Name': 'Shyam', 'Age': 25, 'Add': 'Kathmandu'}]\n",
    "for i in a:\n",
    "    if i['Age'] > 30:\n",
    "        print(i)"
   ]
  },
  {
   "cell_type": "code",
   "execution_count": 13,
   "metadata": {},
   "outputs": [
    {
     "name": "stdout",
     "output_type": "stream",
     "text": [
      "[{'Name': 'Ram', 'Age': '45', 'Add': 'Kathmandu'}, {'Name': 'Shyam', 'Age': '45', 'Add': 'Kathmandu'}]\n"
     ]
    }
   ],
   "source": [
    "a = [{'Name': 'Ram', 'Age': '45', 'Add': 'Kathmandu'}, \n",
    "     {'Name': 'Shyam', 'Age': '45', 'Add': 'Kathmandu'}]\n",
    "a[0]['Name'] = 'Ram'\n",
    "print(a)"
   ]
  },
  {
   "cell_type": "code",
   "execution_count": 15,
   "metadata": {},
   "outputs": [
    {
     "name": "stdout",
     "output_type": "stream",
     "text": [
      "Enter b = 2\n",
      "Enter name = Ram\n",
      "Enter ntc = 9867665\n",
      "Enter ncell = 98787765\n",
      "Enter name = Shyam\n",
      "Enter ntc = 98787765\n",
      "Enter ncell = 98078876\n",
      "{'Ram': {'NTC': '9867665', 'NCELL': '98787765'}, 'Shyam': {'NTC': '98787765', 'NCELL': '98078876'}}\n"
     ]
    }
   ],
   "source": [
    "# e = {'Sita':{'NTC':9867665654,'NCELL':9808556543},\n",
    "#     'Ram':{'NTC':9867665687,'NCELL':98085565778}}\n",
    "\n",
    "d = {}\n",
    "n = int(input(\"Enter b = \"))\n",
    "for i in range(n):\n",
    "    name = input(\"Enter name = \")\n",
    "    ntc = input(\"Enter ntc = \")\n",
    "    ncell = input(\"Enter ncell = \")\n",
    "    info = {'NTC':ntc,'NCELL':ncell}\n",
    "    d[name] = info\n",
    "    \n",
    "print(d)"
   ]
  },
  {
   "cell_type": "code",
   "execution_count": 18,
   "metadata": {},
   "outputs": [
    {
     "data": {
      "text/plain": [
       "{'Ram': {'NTC': '9867665', 'NCELL': '98787765'},\n",
       " 'Shyam': {'NTC': '98787765', 'NCELL': '98078876'},\n",
       " 'Hari': {'NTC': 9867665654, 'NCELL': 9808667654}}"
      ]
     },
     "execution_count": 18,
     "metadata": {},
     "output_type": "execute_result"
    }
   ],
   "source": [
    "a= {'Ram': {'NTC': '9867665', 'NCELL': '98787765'}, 'Shyam': {'NTC': '98787765', 'NCELL': '98078876'}}\n",
    "\n",
    "a['Hari'] = {}\n",
    "a['Hari']['NTC'] = 9867665654\n",
    "a['Hari']['NCELL'] = 9808667654\n",
    "a"
   ]
  },
  {
   "cell_type": "code",
   "execution_count": 20,
   "metadata": {},
   "outputs": [
    {
     "name": "stdout",
     "output_type": "stream",
     "text": [
      "{'NTC': '9867665', 'NCELL': '98787765'}\n",
      "{'NTC': '98787765', 'NCELL': '98078876'}\n"
     ]
    }
   ],
   "source": [
    "a= {'Ram': {'NTC': '9867665', 'NCELL': '98787765'}, \n",
    "    'Shyam': {'NTC': '98787765', 'NCELL': '98078876'}}\n",
    "for i in a.values():\n",
    "    print(i)"
   ]
  },
  {
   "cell_type": "code",
   "execution_count": 24,
   "metadata": {},
   "outputs": [
    {
     "name": "stdout",
     "output_type": "stream",
     "text": [
      "Enter ncell no = 98787765\n",
      "{'NTC': '9867665', 'NCELL': 98787765}\n"
     ]
    }
   ],
   "source": [
    "a= {'Ram': {'NTC': '9867665', 'NCELL': 98787765}, \n",
    "    'Shyam': {'NTC': '98787765', 'NCELL': 98078876}}\n",
    "\n",
    "ncell = int(input(\"Enter ncell no = \"))\n",
    "for i in a.values():\n",
    "    if i['NCELL'] == ncell:\n",
    "        print(i)"
   ]
  },
  {
   "cell_type": "code",
   "execution_count": 29,
   "metadata": {},
   "outputs": [
    {
     "name": "stdout",
     "output_type": "stream",
     "text": [
      "Enter ncell no = 98787765\n",
      "Ram\n"
     ]
    }
   ],
   "source": [
    "a= {'Ram': {'NTC': '9867665', 'NCELL': 98787765}, \n",
    "    'Shyam': {'NTC': '98787765', 'NCELL': 98078876}}\n",
    "\n",
    "ncell = int(input(\"Enter ncell no = \"))\n",
    "for i in a.items():\n",
    "   \n",
    "    if i[1]['NCELL'] == ncell:\n",
    "        print(i[0])\n",
    "   "
   ]
  },
  {
   "cell_type": "code",
   "execution_count": null,
   "metadata": {},
   "outputs": [],
   "source": []
  }
 ],
 "metadata": {
  "kernelspec": {
   "display_name": "Python 3",
   "language": "python",
   "name": "python3"
  },
  "language_info": {
   "codemirror_mode": {
    "name": "ipython",
    "version": 3
   },
   "file_extension": ".py",
   "mimetype": "text/x-python",
   "name": "python",
   "nbconvert_exporter": "python",
   "pygments_lexer": "ipython3",
   "version": "3.7.1"
  }
 },
 "nbformat": 4,
 "nbformat_minor": 2
}
